{
 "cells": [
  {
   "cell_type": "code",
   "execution_count": 2,
   "metadata": {
    "collapsed": false
   },
   "outputs": [
    {
     "name": "stderr",
     "output_type": "stream",
     "text": [
      "/Users/yuncong/anaconda/lib/python3.6/site-packages/sklearn/cross_validation.py:44: DeprecationWarning: This module was deprecated in version 0.18 in favor of the model_selection module into which all the refactored classes and functions are moved. Also note that the interface of the new CV iterators are different from that of this module. This module will be removed in 0.20.\n",
      "  \"This module will be removed in 0.20.\", DeprecationWarning)\n"
     ]
    }
   ],
   "source": [
    "import csv\n",
    "from sklearn.model_selection import train_test_split\n",
    "from sklearn.metrics import recall_score\n",
    "from sklearn.metrics import precision_score\n",
    "from sklearn import tree\n",
    "from sklearn.ensemble import RandomForestClassifier\n",
    "from sklearn import svm\n",
    "from sklearn.naive_bayes import GaussianNB\n",
    "from sklearn import linear_model\n",
    "from sklearn.cross_validation import KFold\n",
    "from sklearn.metrics import f1_score\n",
    "import numpy as np"
   ]
  },
  {
   "cell_type": "code",
   "execution_count": 3,
   "metadata": {
    "collapsed": false
   },
   "outputs": [],
   "source": [
    "with open(\"J.csv\", 'r') as csvfile:\n",
    "    reader = csv.DictReader(csvfile)\n",
    "    features = []\n",
    "    labels = []\n",
    "    for row in reader:\n",
    "        feature = []\n",
    "        feature.append(float(row['name']))\n",
    "        feature.append(float(row['addr']))\n",
    "        feature.append(float(row['post']))\n",
    "        feature.append(float(row['phone']))\n",
    "        features.append(feature)\n",
    "        labels.append(int(row['label']))"
   ]
  },
  {
   "cell_type": "code",
   "execution_count": 4,
   "metadata": {
    "collapsed": true
   },
   "outputs": [],
   "source": [
    "X = np.array(features)\n",
    "Y = np.array(labels)"
   ]
  },
  {
   "cell_type": "code",
   "execution_count": null,
   "metadata": {
    "collapsed": false
   },
   "outputs": [],
   "source": []
  },
  {
   "cell_type": "code",
   "execution_count": null,
   "metadata": {
    "collapsed": false
   },
   "outputs": [],
   "source": []
  },
  {
   "cell_type": "code",
   "execution_count": 27,
   "metadata": {
    "collapsed": false
   },
   "outputs": [],
   "source": [
    "X_train, X_test, y_train, y_test = train_test_split(\n",
    "...     features, labels, test_size=0.4, random_state=0)"
   ]
  },
  {
   "cell_type": "code",
   "execution_count": 133,
   "metadata": {
    "collapsed": false
   },
   "outputs": [
    {
     "data": {
      "text/plain": [
       "0.97022435897435899"
      ]
     },
     "execution_count": 133,
     "metadata": {},
     "output_type": "execute_result"
    }
   ],
   "source": [
    "clf = svm.SVC(kernel='linear', C=1).fit(X_train, y_train)\n",
    "#y_train\n",
    "#clf.score(X_test, y_test)\n",
    "\n",
    "clf_predict = clf.predict(X_test)\n",
    "f1_score(y_test, clf_predict, average = 'weighted')\n",
    "#f1_score\n",
    "recall_score(y_test, clf_predict, average = 'weighted')\n",
    "precision_score(y_test, clf_predict, average = 'weighted')"
   ]
  },
  {
   "cell_type": "code",
   "execution_count": 135,
   "metadata": {
    "collapsed": false
   },
   "outputs": [
    {
     "data": {
      "text/plain": [
       "0.93025641025641026"
      ]
     },
     "execution_count": 135,
     "metadata": {},
     "output_type": "execute_result"
    }
   ],
   "source": [
    "t_clf = tree.DecisionTreeClassifier().fit(X_train, y_train) \n",
    "clf_predict = t_clf.predict(X_test)\n",
    "f1_score(y_test, clf_predict, average = 'weighted')\n",
    "#f1_score\n",
    "recall_score(y_test, clf_predict, average = 'weighted')\n",
    "precision_score(y_test, clf_predict, average = 'weighted')\n"
   ]
  },
  {
   "cell_type": "code",
   "execution_count": 137,
   "metadata": {
    "collapsed": false
   },
   "outputs": [
    {
     "data": {
      "text/plain": [
       "0.93975757575757568"
      ]
     },
     "execution_count": 137,
     "metadata": {},
     "output_type": "execute_result"
    }
   ],
   "source": [
    "rf_clf = RandomForestClassifier(n_estimators=10, max_depth=3).fit(X_train, y_train)\n",
    "clf_predict = rf_clf.predict(X_test)\n",
    "f1_score(y_test, clf_predict, average = 'weighted')\n",
    "#f1_score\n",
    "#recall_score(y_test, clf_predict, average = 'weighted')\n",
    "#precision_score(y_test, clf_predict, average = 'weighted')\n"
   ]
  },
  {
   "cell_type": "code",
   "execution_count": 139,
   "metadata": {
    "collapsed": false
   },
   "outputs": [
    {
     "data": {
      "text/plain": [
       "0.97022435897435899"
      ]
     },
     "execution_count": 139,
     "metadata": {},
     "output_type": "execute_result"
    }
   ],
   "source": [
    "gnb = GaussianNB().fit(X_train, y_train)\n",
    "clf_predict = gnb.predict(X_test)\n",
    "f1_score(y_test, clf_predict, average = 'weighted')\n",
    "#f1_score\n",
    "#recall_score(y_test, clf_predict, average = 'weighted')\n",
    "precision_score(y_test, clf_predict, average = 'weighted')"
   ]
  },
  {
   "cell_type": "code",
   "execution_count": 146,
   "metadata": {
    "collapsed": false
   },
   "outputs": [
    {
     "data": {
      "text/plain": [
       "0.97999999999999998"
      ]
     },
     "execution_count": 146,
     "metadata": {},
     "output_type": "execute_result"
    }
   ],
   "source": [
    "lr_clf = linear_model.SGDClassifier(loss='log').fit(X_train, y_train)\n",
    "clf_predict = lr_clf.predict(X_test)\n",
    "clf_predict\n",
    "f1_score(y_test, clf_predict, average = 'weighted')\n",
    "#f1_score\n",
    "#recall_score(y_test, clf_predict, average = 'weighted')\n",
    "precision_score(y_test, clf_predict, average = 'weighted')"
   ]
  },
  {
   "cell_type": "code",
   "execution_count": 149,
   "metadata": {
    "collapsed": false
   },
   "outputs": [
    {
     "data": {
      "text/plain": [
       "0.83960620181470158"
      ]
     },
     "execution_count": 149,
     "metadata": {},
     "output_type": "execute_result"
    }
   ],
   "source": [
    "ln_clf = linear_model.LinearRegression().fit(X_train, y_train)\n",
    "#clf_predict = ln_clf.predict_proba(X_test)\n",
    "clf_predict\n",
    "#f1_score(y_test, clf_predict, average = 'weighted')\n",
    "#f1_score\n",
    "#recall_score(y_test, clf_predict, average = 'weighted')\n",
    "ln_clf.score(X_test, y_test)\n"
   ]
  },
  {
   "cell_type": "code",
   "execution_count": null,
   "metadata": {
    "collapsed": true
   },
   "outputs": [],
   "source": []
  },
  {
   "cell_type": "code",
   "execution_count": null,
   "metadata": {
    "collapsed": true
   },
   "outputs": [],
   "source": []
  }
 ],
 "metadata": {
  "kernelspec": {
   "display_name": "Python 3",
   "language": "python",
   "name": "python3"
  },
  "language_info": {
   "codemirror_mode": {
    "name": "ipython",
    "version": 3
   },
   "file_extension": ".py",
   "mimetype": "text/x-python",
   "name": "python",
   "nbconvert_exporter": "python",
   "pygments_lexer": "ipython3",
   "version": "3.6.0"
  }
 },
 "nbformat": 4,
 "nbformat_minor": 2
}
